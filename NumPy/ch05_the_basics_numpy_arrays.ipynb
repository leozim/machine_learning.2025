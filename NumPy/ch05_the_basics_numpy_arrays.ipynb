{
 "cells": [
  {
   "cell_type": "code",
   "execution_count": 1,
   "id": "42118eee-7ee2-4321-bfb9-81428b9e70e1",
   "metadata": {},
   "outputs": [],
   "source": [
    "import numpy as np"
   ]
  },
  {
   "cell_type": "markdown",
   "id": "924a8012-7bed-4358-8067-5450339606a3",
   "metadata": {},
   "source": [
    "# NumPy Array Attributes"
   ]
  },
  {
   "cell_type": "code",
   "execution_count": 2,
   "id": "caa3de63-7f2d-4260-a2d8-a40c8e195dff",
   "metadata": {},
   "outputs": [],
   "source": [
    "rng = np.random.default_rng(seed = 1701)"
   ]
  },
  {
   "cell_type": "code",
   "execution_count": 3,
   "id": "6aa883b5-ee8f-431f-bf03-2fca6bca9e99",
   "metadata": {},
   "outputs": [],
   "source": [
    "arr_rand = rng.integers(10, size=6)\n",
    "matrix_rand = rng.integers(10, size=(3, 4))\n",
    "three_d_matrix_rand = rng.integers(10, size=(3, 4, 5))"
   ]
  },
  {
   "cell_type": "code",
   "execution_count": 4,
   "id": "e17ea3fe-a1f7-4095-9158-289c13405278",
   "metadata": {},
   "outputs": [
    {
     "name": "stdout",
     "output_type": "stream",
     "text": [
      "arr ndim: [9 4 0 3 8 6]\n",
      "matrix ndim: [[3 1 3 7]\n",
      " [4 0 2 3]\n",
      " [0 0 6 9]]\n",
      "matrix ndim:\n",
      " [[[4 3 5 5 0]\n",
      "  [8 3 5 2 2]\n",
      "  [1 8 8 5 3]\n",
      "  [0 0 8 5 8]]\n",
      "\n",
      " [[5 1 6 2 3]\n",
      "  [1 2 5 6 2]\n",
      "  [5 2 7 9 3]\n",
      "  [5 6 0 2 0]]\n",
      "\n",
      " [[2 9 4 3 9]\n",
      "  [9 2 2 4 0]\n",
      "  [0 3 0 0 2]\n",
      "  [3 2 7 4 7]]]\n"
     ]
    }
   ],
   "source": [
    "print(f\"arr ndim: {arr_rand}\")\n",
    "print(f\"matrix ndim: {matrix_rand}\")\n",
    "print(f\"matrix ndim:\\n {three_d_matrix_rand}\")"
   ]
  },
  {
   "cell_type": "code",
   "execution_count": 5,
   "id": "d2f133d3-6171-49f5-8499-01bff34c8f10",
   "metadata": {},
   "outputs": [
    {
     "name": "stdout",
     "output_type": "stream",
     "text": [
      "matrix ndim-3:  3\n",
      "matrix ndim-3 shape:  (3, 4, 5)\n",
      "matrix ndim-3 size:  60\n",
      "matrix ndim-3:  int64\n"
     ]
    }
   ],
   "source": [
    "print(\"matrix ndim-3: \", three_d_matrix_rand.ndim)\n",
    "print(\"matrix ndim-3 shape: \", three_d_matrix_rand.shape)\n",
    "print(\"matrix ndim-3 size: \", three_d_matrix_rand.size)\n",
    "print(\"matrix ndim-3: \", three_d_matrix_rand.dtype)"
   ]
  },
  {
   "cell_type": "markdown",
   "id": "1608f649-e10f-4f9b-9c40-f9d181585059",
   "metadata": {},
   "source": [
    "# Array Indexing: Accessing Single Elements"
   ]
  },
  {
   "cell_type": "code",
   "execution_count": 6,
   "id": "003b34cc-d7b6-4617-9d95-b7606bd093f7",
   "metadata": {},
   "outputs": [
    {
     "name": "stdout",
     "output_type": "stream",
     "text": [
      "[10  4  7  7  6]\n",
      "10 4 6 7 6 7\n"
     ]
    }
   ],
   "source": [
    "arr_rand = rng.integers(11, size=5)\n",
    "print(arr_rand)\n",
    "print(arr_rand[0], arr_rand[1], arr_rand[-1], arr_rand[-2], arr_rand[4], arr_rand[3])"
   ]
  },
  {
   "cell_type": "code",
   "execution_count": 7,
   "id": "f795b50a-4414-4d8c-b6b6-06a8226c64e9",
   "metadata": {},
   "outputs": [
    {
     "name": "stdout",
     "output_type": "stream",
     "text": [
      "[[1 3 5 6]\n",
      " [5 8 2 5]\n",
      " [7 2 8 3]]\n",
      "1\n",
      "3\n",
      "6\n",
      "7\n"
     ]
    }
   ],
   "source": [
    "matrix_rand = rng.integers(11, size=(3,4))\n",
    "print(matrix_rand)\n",
    "print(matrix_rand[0,0])\n",
    "print(matrix_rand[0,1])\n",
    "print(matrix_rand[0,-1])\n",
    "print(matrix_rand[-1, 0])"
   ]
  },
  {
   "cell_type": "code",
   "execution_count": 8,
   "id": "33bb76cc-9886-4ace-bfdc-bd6b0275c877",
   "metadata": {},
   "outputs": [
    {
     "name": "stdout",
     "output_type": "stream",
     "text": [
      "[[12  3  5  6]\n",
      " [ 5  8  2  5]\n",
      " [ 7  2  8  3]]\n"
     ]
    }
   ],
   "source": [
    "matrix_rand[0, 0] = 12\n",
    "print(matrix_rand)"
   ]
  },
  {
   "cell_type": "markdown",
   "id": "17330c24-0802-483a-b9c8-1e6fc4c8e862",
   "metadata": {},
   "source": [
    "# Array Slicing: Accessing Subarrays"
   ]
  },
  {
   "cell_type": "markdown",
   "id": "a1acb98d-16cc-4250-a387-57646ec6abbe",
   "metadata": {},
   "source": [
    "## x[start:stop:step]"
   ]
  },
  {
   "cell_type": "markdown",
   "id": "3bf32405-70db-445c-bd95-c8a33d4ed5f8",
   "metadata": {},
   "source": [
    "## One-Dimensional Subarrays"
   ]
  },
  {
   "cell_type": "code",
   "execution_count": 31,
   "id": "45869672-37fa-45b7-a3e6-b93c8de6af7f",
   "metadata": {},
   "outputs": [
    {
     "data": {
      "text/plain": [
       "array([10,  4,  7,  7,  6])"
      ]
     },
     "execution_count": 31,
     "metadata": {},
     "output_type": "execute_result"
    }
   ],
   "source": [
    "arr_rand"
   ]
  },
  {
   "cell_type": "code",
   "execution_count": 33,
   "id": "1108e24f-e210-4c5e-868d-80b00d1dc13d",
   "metadata": {},
   "outputs": [
    {
     "data": {
      "text/plain": [
       "5"
      ]
     },
     "execution_count": 33,
     "metadata": {},
     "output_type": "execute_result"
    }
   ],
   "source": [
    "arr_rand.size"
   ]
  },
  {
   "cell_type": "code",
   "execution_count": 28,
   "id": "845265ca-461b-4fbc-bc70-6dc6d25d5696",
   "metadata": {},
   "outputs": [
    {
     "data": {
      "text/plain": [
       "array([10,  4,  7])"
      ]
     },
     "execution_count": 28,
     "metadata": {},
     "output_type": "execute_result"
    }
   ],
   "source": [
    "arr_rand[:3] # first three elements"
   ]
  },
  {
   "cell_type": "code",
   "execution_count": 40,
   "id": "3b65f2ec-bee5-4669-8594-fd1531d6e9bd",
   "metadata": {},
   "outputs": [
    {
     "data": {
      "text/plain": [
       "array([7, 6])"
      ]
     },
     "execution_count": 40,
     "metadata": {},
     "output_type": "execute_result"
    }
   ],
   "source": [
    "arr_rand[3:] # elements after index 3"
   ]
  },
  {
   "cell_type": "code",
   "execution_count": 17,
   "id": "4a377b09-00fe-43f2-877e-7d44b6b875b8",
   "metadata": {},
   "outputs": [
    {
     "data": {
      "text/plain": [
       "array([4, 7, 7])"
      ]
     },
     "execution_count": 17,
     "metadata": {},
     "output_type": "execute_result"
    }
   ],
   "source": [
    "arr_rand[1:4] # middle subarray"
   ]
  },
  {
   "cell_type": "code",
   "execution_count": 18,
   "id": "61495d95-35a4-4d6c-b404-006de486bf07",
   "metadata": {},
   "outputs": [
    {
     "data": {
      "text/plain": [
       "array([10,  7,  6])"
      ]
     },
     "execution_count": 18,
     "metadata": {},
     "output_type": "execute_result"
    }
   ],
   "source": [
    "arr_rand[::2] # every second element"
   ]
  },
  {
   "cell_type": "code",
   "execution_count": 29,
   "id": "68cd1fa9-d8be-433e-8321-ffe2c8bc2584",
   "metadata": {},
   "outputs": [
    {
     "data": {
      "text/plain": [
       "array([4, 7])"
      ]
     },
     "execution_count": 29,
     "metadata": {},
     "output_type": "execute_result"
    }
   ],
   "source": [
    "arr_rand[1::2] # every second element, starting at index 1"
   ]
  },
  {
   "cell_type": "markdown",
   "id": "fe6ff5b5-a6b8-49b0-86cf-0cb2349365d8",
   "metadata": {},
   "source": [
    "### A potentially confusing case is when the step value is negative. In this case,\n",
    "### the defaults for *start* and *stop* are swapped. This becomes a convenient way \n",
    "### to reverse an array."
   ]
  },
  {
   "cell_type": "code",
   "execution_count": 34,
   "id": "42983d23-c714-4611-97bb-1d8529106401",
   "metadata": {},
   "outputs": [
    {
     "data": {
      "text/plain": [
       "array([10,  4,  7,  7,  6])"
      ]
     },
     "execution_count": 34,
     "metadata": {},
     "output_type": "execute_result"
    }
   ],
   "source": [
    "arr_rand"
   ]
  },
  {
   "cell_type": "code",
   "execution_count": 35,
   "id": "5d2e58b9-0d01-4c8f-a816-2de524f735cd",
   "metadata": {},
   "outputs": [
    {
     "data": {
      "text/plain": [
       "array([ 6,  7,  7,  4, 10])"
      ]
     },
     "execution_count": 35,
     "metadata": {},
     "output_type": "execute_result"
    }
   ],
   "source": [
    "arr_rand[::-1]"
   ]
  },
  {
   "cell_type": "code",
   "execution_count": 36,
   "id": "02c6b48e-11d8-48a2-a046-47247c83a6f8",
   "metadata": {},
   "outputs": [
    {
     "data": {
      "text/plain": [
       "array([ 6,  7, 10])"
      ]
     },
     "execution_count": 36,
     "metadata": {},
     "output_type": "execute_result"
    }
   ],
   "source": [
    "arr_rand[4::-2] # every second element from index 4, reversed"
   ]
  },
  {
   "cell_type": "markdown",
   "id": "c1c48483-fb38-4e49-b500-aa3c7a4439a5",
   "metadata": {},
   "source": [
    "## Multidimensional Subarrays"
   ]
  },
  {
   "cell_type": "code",
   "execution_count": 41,
   "id": "a7714cdf-a307-4cf9-8141-dcd118586a23",
   "metadata": {},
   "outputs": [
    {
     "data": {
      "text/plain": [
       "array([[12,  3,  5,  6],\n",
       "       [ 5,  8,  2,  5],\n",
       "       [ 7,  2,  8,  3]])"
      ]
     },
     "execution_count": 41,
     "metadata": {},
     "output_type": "execute_result"
    }
   ],
   "source": [
    "matrix_rand"
   ]
  },
  {
   "cell_type": "code",
   "execution_count": 42,
   "id": "62611208-cb89-4b6c-a542-dd6fd719c102",
   "metadata": {},
   "outputs": [
    {
     "data": {
      "text/plain": [
       "array([[12,  3,  5],\n",
       "       [ 5,  8,  2]])"
      ]
     },
     "execution_count": 42,
     "metadata": {},
     "output_type": "execute_result"
    }
   ],
   "source": [
    "matrix_rand[:2, :3] # first two rows & three columns"
   ]
  },
  {
   "cell_type": "code",
   "execution_count": 43,
   "id": "3ff26ccb-17f7-4386-8862-445276c6ec5a",
   "metadata": {},
   "outputs": [
    {
     "data": {
      "text/plain": [
       "array([[12,  5],\n",
       "       [ 5,  2],\n",
       "       [ 7,  8]])"
      ]
     },
     "execution_count": 43,
     "metadata": {},
     "output_type": "execute_result"
    }
   ],
   "source": [
    "matrix_rand[:3, ::2] # three rows, every second column"
   ]
  },
  {
   "cell_type": "code",
   "execution_count": 44,
   "id": "8486b4e5-dd7a-449b-9cad-50a8e6f946b2",
   "metadata": {},
   "outputs": [
    {
     "data": {
      "text/plain": [
       "array([[12,  6],\n",
       "       [ 5,  5],\n",
       "       [ 7,  3]])"
      ]
     },
     "execution_count": 44,
     "metadata": {},
     "output_type": "execute_result"
    }
   ],
   "source": [
    "matrix_rand[:3, ::3] # all rows at one steep, all columns at 2 steps"
   ]
  },
  {
   "cell_type": "code",
   "execution_count": 45,
   "id": "6ed95df1-9c0f-4658-9f67-c93a29b63628",
   "metadata": {},
   "outputs": [
    {
     "data": {
      "text/plain": [
       "array([[ 3,  8,  2,  7],\n",
       "       [ 5,  2,  8,  5],\n",
       "       [ 6,  5,  3, 12]])"
      ]
     },
     "execution_count": 45,
     "metadata": {},
     "output_type": "execute_result"
    }
   ],
   "source": [
    "matrix_rand[::-1, ::-1] # all rows & columns, reversed"
   ]
  },
  {
   "cell_type": "code",
   "execution_count": 46,
   "id": "9f67b0e7-718b-4b9f-a4d4-049bda8afd65",
   "metadata": {},
   "outputs": [
    {
     "data": {
      "text/plain": [
       "array([12,  5,  7])"
      ]
     },
     "execution_count": 46,
     "metadata": {},
     "output_type": "execute_result"
    }
   ],
   "source": [
    "matrix_rand[:, 0] # first column of matrix_rand"
   ]
  },
  {
   "cell_type": "code",
   "execution_count": 47,
   "id": "068cda1e-7030-483e-9d68-19c31671a05a",
   "metadata": {},
   "outputs": [
    {
     "data": {
      "text/plain": [
       "array([7, 2, 8, 3])"
      ]
     },
     "execution_count": 47,
     "metadata": {},
     "output_type": "execute_result"
    }
   ],
   "source": [
    "matrix_rand[2, :] # third row of matrix_rand"
   ]
  },
  {
   "cell_type": "code",
   "execution_count": 48,
   "id": "5722e5b3-bd9e-4249-912b-0d19a91bec11",
   "metadata": {},
   "outputs": [
    {
     "data": {
      "text/plain": [
       "array([12,  3,  5,  6])"
      ]
     },
     "execution_count": 48,
     "metadata": {},
     "output_type": "execute_result"
    }
   ],
   "source": [
    "matrix_rand[0] # equivalent to matrix_rand[0, :]"
   ]
  },
  {
   "cell_type": "markdown",
   "id": "11da97b2-2a93-433f-9fc4-57444012bc5d",
   "metadata": {},
   "source": [
    "## Subarrays as No-Copy Views"
   ]
  },
  {
   "cell_type": "markdown",
   "id": "82f0d682-6e9d-47b1-a3f1-6d5796ad8c12",
   "metadata": {},
   "source": [
    "### Unlike Python list slices, NumPy array slices are returned as views rather than copies of the array data"
   ]
  },
  {
   "cell_type": "code",
   "execution_count": 49,
   "id": "35cd7cca-046e-4adc-80e5-31884184cc09",
   "metadata": {},
   "outputs": [
    {
     "data": {
      "text/plain": [
       "array([[ 8, 10,  3,  8],\n",
       "       [ 3,  6,  4,  7],\n",
       "       [ 9,  3,  0,  6]])"
      ]
     },
     "execution_count": 49,
     "metadata": {},
     "output_type": "execute_result"
    }
   ],
   "source": [
    "matrix_rand = rng.integers(11, size=(3,4))\n",
    "matrix_rand"
   ]
  },
  {
   "cell_type": "code",
   "execution_count": 50,
   "id": "400df4e8-cfdb-4cdb-b8d5-848e7963535a",
   "metadata": {},
   "outputs": [
    {
     "name": "stdout",
     "output_type": "stream",
     "text": [
      "[[10  3]\n",
      " [ 6  4]]\n"
     ]
    }
   ],
   "source": [
    "matrix_rand_sub_arr = matrix_rand[:2, 1:3]\n",
    "print(matrix_rand_sub_arr)\n",
    "matrix_rand_sub_arr[1,0] = 0\n",
    "matrix_rand_sub_arr[0,1] = 0"
   ]
  },
  {
   "cell_type": "code",
   "execution_count": 51,
   "id": "a787dbda-d83e-44f1-a333-a2a4272d1944",
   "metadata": {},
   "outputs": [
    {
     "name": "stdout",
     "output_type": "stream",
     "text": [
      "[[10  0]\n",
      " [ 0  4]]\n",
      "[[ 8 10  0  8]\n",
      " [ 3  0  4  7]\n",
      " [ 9  3  0  6]]\n"
     ]
    }
   ],
   "source": [
    "print(matrix_rand_sub_arr)\n",
    "print(matrix_rand) # alter matrix_rand_sub_arr alter the original array"
   ]
  },
  {
   "cell_type": "markdown",
   "id": "2ea8ebde-7101-4f2f-a6e3-bac870d6c13f",
   "metadata": {},
   "source": [
    "#### Some users may find this surprising, but it can be advantageous: for example, when\n",
    "#### working with large datasets, we can access and process pieces of these datasets\n",
    "#### without the need to copy the underlying data buffer"
   ]
  },
  {
   "cell_type": "markdown",
   "id": "be1cd114-efae-4033-b86f-c93a2b6f93d3",
   "metadata": {},
   "source": [
    "# Creating Copis of Arrays"
   ]
  },
  {
   "cell_type": "code",
   "execution_count": 52,
   "id": "bc57ce9c-d3a2-4393-9d01-84348bb7b864",
   "metadata": {},
   "outputs": [
    {
     "data": {
      "text/plain": [
       "array([[ 8, 10],\n",
       "       [ 3,  0]])"
      ]
     },
     "execution_count": 52,
     "metadata": {},
     "output_type": "execute_result"
    }
   ],
   "source": [
    "matrix_rand_copy = matrix_rand[:2, :2].copy()\n",
    "matrix_rand_copy"
   ]
  },
  {
   "cell_type": "markdown",
   "id": "bd41bc10-1b18-44a1-88ce-6da36f63c68b",
   "metadata": {},
   "source": [
    "# Reshaping of Arrays"
   ]
  },
  {
   "cell_type": "code",
   "execution_count": 53,
   "id": "fa7a1b2f-4e74-498a-874a-314696ea03e6",
   "metadata": {},
   "outputs": [
    {
     "data": {
      "text/plain": [
       "array([[1, 2, 3],\n",
       "       [4, 5, 6],\n",
       "       [7, 8, 9]])"
      ]
     },
     "execution_count": 53,
     "metadata": {},
     "output_type": "execute_result"
    }
   ],
   "source": [
    "np.arange(1, 10).reshape(3,3)"
   ]
  },
  {
   "cell_type": "code",
   "execution_count": 54,
   "id": "30ee2d4b-e2b6-494a-9577-ecd173459434",
   "metadata": {},
   "outputs": [
    {
     "data": {
      "text/plain": [
       "array([1, 2, 3, 4, 5, 6, 7, 8, 9])"
      ]
     },
     "execution_count": 54,
     "metadata": {},
     "output_type": "execute_result"
    }
   ],
   "source": [
    "np.arange(1,10)"
   ]
  },
  {
   "cell_type": "markdown",
   "id": "06bc68dc-742c-4b19-be7e-f89f47ca69c4",
   "metadata": {},
   "source": [
    "### reshape method will return a no-copy view of the initial array"
   ]
  },
  {
   "cell_type": "code",
   "execution_count": 55,
   "id": "c68d6418-7d8c-4df8-8d02-22ba760ef98a",
   "metadata": {},
   "outputs": [
    {
     "data": {
      "text/plain": [
       "array([1, 2, 3])"
      ]
     },
     "execution_count": 55,
     "metadata": {},
     "output_type": "execute_result"
    }
   ],
   "source": [
    "x = np.array([1, 2, 3])\n",
    "x"
   ]
  },
  {
   "cell_type": "code",
   "execution_count": 56,
   "id": "f81b5a35-cbc8-48eb-822c-0f77771a0282",
   "metadata": {},
   "outputs": [
    {
     "name": "stdout",
     "output_type": "stream",
     "text": [
      "[1 2 3]\n",
      "[[1 2 3]]\n"
     ]
    }
   ],
   "source": [
    "x1 = x.reshape(1, 3)\n",
    "print(x)\n",
    "print(x1)"
   ]
  },
  {
   "cell_type": "code",
   "execution_count": 57,
   "id": "ac640e06-fd67-4d00-8b04-dac64e00797a",
   "metadata": {},
   "outputs": [
    {
     "name": "stdout",
     "output_type": "stream",
     "text": [
      "[1 8 3]\n",
      "[[1 8 3]]\n",
      "[[1]\n",
      " [8]\n",
      " [3]]\n"
     ]
    }
   ],
   "source": [
    "x1[0,1] = 8\n",
    "x2 = x.reshape(3, 1)\n",
    "print(x)\n",
    "print(x1)\n",
    "print(x2)"
   ]
  },
  {
   "cell_type": "markdown",
   "id": "68ab3f94-8f02-4d41-8865-7d70e38fe7f5",
   "metadata": {},
   "source": [
    "### A convenient shorthand for this is to use *np.newaxis* in the slicing syntax:"
   ]
  },
  {
   "cell_type": "code",
   "execution_count": 58,
   "id": "a8fed650-e5e3-4381-928c-b4e120fd9ea0",
   "metadata": {},
   "outputs": [
    {
     "data": {
      "text/plain": [
       "array([[1, 8, 3]])"
      ]
     },
     "execution_count": 58,
     "metadata": {},
     "output_type": "execute_result"
    }
   ],
   "source": [
    "x[np.newaxis, :]"
   ]
  },
  {
   "cell_type": "code",
   "execution_count": 59,
   "id": "2b813ce2-3549-4153-ada1-12e5eb7e8907",
   "metadata": {},
   "outputs": [
    {
     "data": {
      "text/plain": [
       "array([[1],\n",
       "       [8],\n",
       "       [3]])"
      ]
     },
     "execution_count": 59,
     "metadata": {},
     "output_type": "execute_result"
    }
   ],
   "source": [
    "x[:, np.newaxis]"
   ]
  },
  {
   "cell_type": "markdown",
   "id": "3f5a6345-cd28-403d-89f3-3d7ea7f0013a",
   "metadata": {},
   "source": [
    "# Array Concatenation and Splitting"
   ]
  },
  {
   "cell_type": "markdown",
   "id": "586f68a0-fb26-441e-adf1-b00558b7c1cb",
   "metadata": {},
   "source": [
    "## Concatenation of Arrays"
   ]
  },
  {
   "cell_type": "code",
   "execution_count": 144,
   "id": "41730402-64ef-458d-abe5-e2572440122d",
   "metadata": {},
   "outputs": [
    {
     "name": "stdout",
     "output_type": "stream",
     "text": [
      "[1 2 3 3 2 1]\n",
      "[1 2 3 3 2 1]\n",
      "[1 2 3 3 2 1 4 5 6]\n"
     ]
    }
   ],
   "source": [
    "x = np.array([1,2,3])\n",
    "y = np.array([3,2,1])\n",
    "print(np.concatenate([x,y])) # list\n",
    "print(np.concatenate((x,y))) # tuple\n",
    "print(np.concatenate([x,y,[4, 5, 6]])) # concatenating more than two arrays at once"
   ]
  },
  {
   "cell_type": "code",
   "execution_count": 60,
   "id": "b8a8eea2-053e-4692-9f35-05ca641e1c24",
   "metadata": {},
   "outputs": [
    {
     "data": {
      "text/plain": [
       "array([[1, 2, 3],\n",
       "       [4, 5, 6],\n",
       "       [1, 2, 3],\n",
       "       [4, 5, 6]])"
      ]
     },
     "execution_count": 60,
     "metadata": {},
     "output_type": "execute_result"
    }
   ],
   "source": [
    "grid = np.array([[1, 2, 3], [4, 5, 6]])\n",
    "# vertically\n",
    "np.concatenate([grid, grid]) # concatenate along the first axis"
   ]
  },
  {
   "cell_type": "code",
   "execution_count": 152,
   "id": "fe5e6422-7b37-48a8-bd46-eac188a98451",
   "metadata": {},
   "outputs": [
    {
     "data": {
      "text/plain": [
       "array([[1, 2, 3, 1, 2, 3],\n",
       "       [4, 5, 6, 4, 5, 6]])"
      ]
     },
     "execution_count": 152,
     "metadata": {},
     "output_type": "execute_result"
    }
   ],
   "source": [
    "# horizontally\n",
    "np.concatenate([grid, grid], axis=1) # concatenate along the second axis"
   ]
  },
  {
   "cell_type": "markdown",
   "id": "5b4d3682-4f86-47b4-9ef5-5abb1b167e9d",
   "metadata": {},
   "source": [
    "### For working with array of mixed dimesions, it can be clearer to use the\n",
    "### np.vstack (vertical stack) function\n",
    "### np.hstack (horizontal stack) function"
   ]
  },
  {
   "cell_type": "code",
   "execution_count": 61,
   "id": "d29de7d2-e584-4478-b442-71a16e4697e8",
   "metadata": {},
   "outputs": [
    {
     "data": {
      "text/plain": [
       "array([[1, 8, 3],\n",
       "       [1, 2, 3],\n",
       "       [4, 5, 6]])"
      ]
     },
     "execution_count": 61,
     "metadata": {},
     "output_type": "execute_result"
    }
   ],
   "source": [
    "np.vstack([x, grid])"
   ]
  },
  {
   "cell_type": "code",
   "execution_count": 62,
   "id": "97775275-b03f-40b8-af5f-d7a96d75440b",
   "metadata": {},
   "outputs": [
    {
     "name": "stdout",
     "output_type": "stream",
     "text": [
      "[[99]\n",
      " [99]]\n"
     ]
    },
    {
     "data": {
      "text/plain": [
       "array([[ 1,  2,  3, 99],\n",
       "       [ 4,  5,  6, 99]])"
      ]
     },
     "execution_count": 62,
     "metadata": {},
     "output_type": "execute_result"
    }
   ],
   "source": [
    "y = np.array([[99], [99]])\n",
    "print(y)\n",
    "np.hstack([grid, y])"
   ]
  },
  {
   "cell_type": "markdown",
   "id": "5264e1eb-9985-4ebf-b3aa-b274b7955609",
   "metadata": {},
   "source": [
    "## Splitting of Arrays"
   ]
  },
  {
   "cell_type": "markdown",
   "id": "16483868-eaf6-4081-ba91-62d92c888bc3",
   "metadata": {},
   "source": [
    "### The opposite of concatenatio is splitting, which is implemented by the functions\n",
    "### np.split, np.hsplit, and np.vsplit. For each of these, we can pass a list of indices\n",
    "### giving the split points;"
   ]
  },
  {
   "cell_type": "code",
   "execution_count": 63,
   "id": "ea50dedc-df61-4d2c-8428-18ca182dca82",
   "metadata": {},
   "outputs": [],
   "source": [
    "a = [1, 2, 3, 99, 99, 3, 2, 1]"
   ]
  },
  {
   "cell_type": "code",
   "execution_count": 66,
   "id": "ba5c9b98-bae2-4665-95a2-f9a49f309eac",
   "metadata": {},
   "outputs": [
    {
     "data": {
      "text/plain": [
       "[1]"
      ]
     },
     "execution_count": 66,
     "metadata": {},
     "output_type": "execute_result"
    }
   ],
   "source": [
    "a[:]"
   ]
  },
  {
   "cell_type": "code",
   "execution_count": null,
   "id": "5008f70e-c657-493d-b4e6-1809f153e7fd",
   "metadata": {},
   "outputs": [],
   "source": []
  }
 ],
 "metadata": {
  "kernelspec": {
   "display_name": "Python 3 (ipykernel)",
   "language": "python",
   "name": "python3"
  },
  "language_info": {
   "codemirror_mode": {
    "name": "ipython",
    "version": 3
   },
   "file_extension": ".py",
   "mimetype": "text/x-python",
   "name": "python",
   "nbconvert_exporter": "python",
   "pygments_lexer": "ipython3",
   "version": "3.12.8"
  }
 },
 "nbformat": 4,
 "nbformat_minor": 5
}
